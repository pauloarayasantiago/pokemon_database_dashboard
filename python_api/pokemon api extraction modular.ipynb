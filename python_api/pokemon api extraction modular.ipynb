{
 "cells": [
  {
   "cell_type": "code",
   "execution_count": null,
   "metadata": {},
   "outputs": [],
   "source": [
    "# Import necessary libraries\n",
    "import requests\n",
    "import pandas as pd\n",
    "\n",
    "# Base URL for PokeAPI\n",
    "BASE_URL = \"https://pokeapi.co/api/v2/\"\n",
    "\n",
    "def fetch_data(url):\n",
    "    response = requests.get(url)\n",
    "    if response.status_code == 200:\n",
    "        return response.json()\n",
    "    else:\n",
    "        return None"
   ]
  },
  {
   "cell_type": "code",
   "execution_count": null,
   "metadata": {},
   "outputs": [],
   "source": [
    "# Function to get Pokémon basic data\n",
    "def get_pokemon_basic_data():\n",
    "    url = BASE_URL + \"pokemon/\"\n",
    "    pokemon_data = []\n",
    "    \n",
    "    while url:\n",
    "        data = fetch_data(url)\n",
    "        if data:\n",
    "            for pokemon in data['results']:\n",
    "                pokemon_info = fetch_data(pokemon['url'])\n",
    "                if pokemon_info:\n",
    "                    pokemon_entry = {\n",
    "                        'id': pokemon_info['id'],\n",
    "                        'name': pokemon_info['name'],\n",
    "                        'base_experience': pokemon_info['base_experience'],\n",
    "                        'height': pokemon_info['height'],\n",
    "                        'weight': pokemon_info['weight'],\n",
    "                        'is_default': pokemon_info['is_default'],\n",
    "                        'order': pokemon_info['order']\n",
    "                    }\n",
    "                    pokemon_data.append(pokemon_entry)\n",
    "            url = data['next']\n",
    "        else:\n",
    "            break\n",
    "    \n",
    "    pokemon_df = pd.DataFrame(pokemon_data)\n",
    "    return pokemon_df"
   ]
  },
  {
   "cell_type": "code",
   "execution_count": null,
   "metadata": {},
   "outputs": [],
   "source": [
    "# Function to get abilities data\n",
    "def get_abilities_data():\n",
    "    url = BASE_URL + \"pokemon/\"\n",
    "    abilities_data = []\n",
    "    \n",
    "    while url:\n",
    "        data = fetch_data(url)\n",
    "        if data:\n",
    "            for pokemon in data['results']:\n",
    "                pokemon_info = fetch_data(pokemon['url'])\n",
    "                if pokemon_info:\n",
    "                    for ability in pokemon_info['abilities']:\n",
    "                        abilities_data.append({\n",
    "                            'pokemon_id': pokemon_info['id'],\n",
    "                            'ability_name': ability['ability']['name'],\n",
    "                            'is_hidden': ability['is_hidden'],\n",
    "                            'slot': ability['slot']\n",
    "                        })\n",
    "            url = data['next']\n",
    "        else:\n",
    "            break\n",
    "    \n",
    "    abilities_df = pd.DataFrame(abilities_data)\n",
    "    return abilities_df"
   ]
  },
  {
   "cell_type": "code",
   "execution_count": null,
   "metadata": {},
   "outputs": [],
   "source": [
    "# Function to get moves data\n",
    "def get_moves_data():\n",
    "    url = BASE_URL + \"pokemon/\"\n",
    "    moves_data = []\n",
    "    \n",
    "    while url:\n",
    "        data = fetch_data(url)\n",
    "        if data:\n",
    "            for pokemon in data['results']:\n",
    "                pokemon_info = fetch_data(pokemon['url'])\n",
    "                if pokemon_info:\n",
    "                    for move in pokemon_info['moves']:\n",
    "                        for version_detail in move['version_group_details']:\n",
    "                            moves_data.append({\n",
    "                                'pokemon_id': pokemon_info['id'],\n",
    "                                'move_name': move['move']['name'],\n",
    "                                'level_learned_at': version_detail['level_learned_at'],\n",
    "                                'version_group': version_detail['version_group']['name'],\n",
    "                                'move_learn_method': version_detail['move_learn_method']['name']\n",
    "                            })\n",
    "            url = data['next']\n",
    "        else:\n",
    "            break\n",
    "    \n",
    "    moves_df = pd.DataFrame(moves_data)\n",
    "    return moves_df"
   ]
  },
  {
   "cell_type": "code",
   "execution_count": null,
   "metadata": {},
   "outputs": [],
   "source": [
    "# Function to get held items data\n",
    "def get_held_items_data():\n",
    "    url = BASE_URL + \"pokemon/\"\n",
    "    held_items_data = []\n",
    "    \n",
    "    while url:\n",
    "        data = fetch_data(url)\n",
    "        if data:\n",
    "            for pokemon in data['results']:\n",
    "                pokemon_info = fetch_data(pokemon['url'])\n",
    "                if pokemon_info:\n",
    "                    for item in pokemon_info['held_items']:\n",
    "                        for version_detail in item['version_details']:\n",
    "                            held_items_data.append({\n",
    "                                'pokemon_id': pokemon_info['id'],\n",
    "                                'item_name': item['item']['name'],\n",
    "                                'version_name': version_detail['version']['name'],\n",
    "                                'rarity': version_detail['rarity']\n",
    "                            })\n",
    "            url = data['next']\n",
    "        else:\n",
    "            break\n",
    "    \n",
    "    held_items_df = pd.DataFrame(held_items_data)\n",
    "    return held_items_df"
   ]
  },
  {
   "cell_type": "code",
   "execution_count": null,
   "metadata": {},
   "outputs": [],
   "source": [
    "# Function to get types data\n",
    "def get_types_data():\n",
    "    url = BASE_URL + \"pokemon/\"\n",
    "    types_data = []\n",
    "    \n",
    "    while url:\n",
    "        data = fetch_data(url)\n",
    "        if data:\n",
    "            for pokemon in data['results']:\n",
    "                pokemon_info = fetch_data(pokemon['url'])\n",
    "                if pokemon_info:\n",
    "                    for poke_type in pokemon_info['types']:\n",
    "                        types_data.append({\n",
    "                            'pokemon_id': pokemon_info['id'],\n",
    "                            'type_name': poke_type['type']['name'],\n",
    "                            'slot': poke_type['slot']\n",
    "                        })\n",
    "            url = data['next']\n",
    "        else:\n",
    "            break\n",
    "    \n",
    "    types_df = pd.DataFrame(types_data)\n",
    "    return types_df"
   ]
  },
  {
   "cell_type": "code",
   "execution_count": null,
   "metadata": {},
   "outputs": [],
   "source": [
    "# Function to get stats data\n",
    "def get_stats_data():\n",
    "    url = BASE_URL + \"pokemon/\"\n",
    "    stats_data = []\n",
    "    \n",
    "    while url:\n",
    "        data = fetch_data(url)\n",
    "        if data:\n",
    "            for pokemon in data['results']:\n",
    "                pokemon_info = fetch_data(pokemon['url'])\n",
    "                if pokemon_info:\n",
    "                    for stat in pokemon_info['stats']:\n",
    "                        stats_data.append({\n",
    "                            'pokemon_id': pokemon_info['id'],\n",
    "                            'stat_name': stat['stat']['name'],\n",
    "                            'base_stat': stat['base_stat'],\n",
    "                            'effort': stat['effort']\n",
    "                        })\n",
    "            url = data['next']\n",
    "        else:\n",
    "            break\n",
    "    \n",
    "    stats_df = pd.DataFrame(stats_data)\n",
    "    return stats_df"
   ]
  },
  {
   "cell_type": "code",
   "execution_count": null,
   "metadata": {},
   "outputs": [],
   "source": [
    "# Function to get forms data\n",
    "def get_forms_data():\n",
    "    url = BASE_URL + \"pokemon/\"\n",
    "    forms_data = []\n",
    "    \n",
    "    while url:\n",
    "        data = fetch_data(url)\n",
    "        if data:\n",
    "            for pokemon in data['results']:\n",
    "                pokemon_info = fetch_data(pokemon['url'])\n",
    "                if pokemon_info:\n",
    "                    for form in pokemon_info['forms']:\n",
    "                        forms_data.append({\n",
    "                            'pokemon_id': pokemon_info['id'],\n",
    "                            'form_name': form['name']\n",
    "                        })\n",
    "            url = data['next']\n",
    "        else:\n",
    "            break\n",
    "    \n",
    "    forms_df = pd.DataFrame(forms_data)\n",
    "    return forms_df"
   ]
  },
  {
   "cell_type": "code",
   "execution_count": null,
   "metadata": {},
   "outputs": [],
   "source": [
    "# Example usage for individual data extractions\n",
    "pokemon_df = get_pokemon_basic_data()\n",
    "abilities_df = get_abilities_data()\n",
    "moves_df = get_moves_data()\n",
    "held_items_df = get_held_items_data()\n",
    "types_df = get_types_data()\n",
    "stats_df = get_stats_data()\n",
    "forms_df = get_forms_data()"
   ]
  },
  {
   "cell_type": "code",
   "execution_count": null,
   "metadata": {},
   "outputs": [],
   "source": [
    "# Save the DataFrames to CSV files\n",
    "pokemon_df.to_csv('pokemon_basic_data.csv', index=False)\n",
    "abilities_df.to_csv('abilities_data.csv', index=False)\n",
    "moves_df.to_csv('moves_data.csv', index=False)\n",
    "held_items_df.to_csv('held_items_data.csv', index=False)\n",
    "types_df.to_csv('types_data.csv', index=False)\n",
    "stats_df.to_csv('stats_data.csv', index=False)\n",
    "forms_df.to_csv('forms_data.csv', index=False)\n"
   ]
  },
  {
   "cell_type": "code",
   "execution_count": null,
   "metadata": {},
   "outputs": [],
   "source": [
    "pokemon_df"
   ]
  },
  {
   "cell_type": "code",
   "execution_count": null,
   "metadata": {},
   "outputs": [],
   "source": [
    "abilities_df"
   ]
  },
  {
   "cell_type": "code",
   "execution_count": null,
   "metadata": {},
   "outputs": [],
   "source": [
    "moves_df\n"
   ]
  },
  {
   "cell_type": "code",
   "execution_count": null,
   "metadata": {},
   "outputs": [],
   "source": [
    "held_items_df\n"
   ]
  },
  {
   "cell_type": "code",
   "execution_count": null,
   "metadata": {},
   "outputs": [],
   "source": [
    "types_df\n"
   ]
  },
  {
   "cell_type": "code",
   "execution_count": null,
   "metadata": {},
   "outputs": [],
   "source": [
    "stats_df\n"
   ]
  },
  {
   "cell_type": "code",
   "execution_count": null,
   "metadata": {},
   "outputs": [],
   "source": [
    "forms_df"
   ]
  }
 ],
 "metadata": {
  "kernelspec": {
   "display_name": "pokemon",
   "language": "python",
   "name": "python3"
  },
  "language_info": {
   "codemirror_mode": {
    "name": "ipython",
    "version": 3
   },
   "file_extension": ".py",
   "mimetype": "text/x-python",
   "name": "python",
   "nbconvert_exporter": "python",
   "pygments_lexer": "ipython3",
   "version": "3.12.7"
  }
 },
 "nbformat": 4,
 "nbformat_minor": 2
}
