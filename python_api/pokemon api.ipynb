{
 "cells": [
  {
   "cell_type": "code",
   "execution_count": 2,
   "metadata": {},
   "outputs": [
    {
     "name": "stdout",
     "output_type": "stream",
     "text": [
      "Name: pikachu\n",
      "Height: 4\n",
      "Weight: 60\n",
      "Abilities: ['static', 'lightning-rod']\n",
      "Item Name: potion\n",
      "Effect: Used on a friendly Pokémon\n",
      ":   Restores 20 HP.\n"
     ]
    }
   ],
   "source": [
    "import requests\n",
    "\n",
    "# Base URL of PokeAPI\n",
    "BASE_URL = \"https://pokeapi.co/api/v2/\"\n",
    "\n",
    "def get_pokemon_data(pokemon_name):\n",
    "    # Endpoint to get information about a specific Pokemon\n",
    "    url = BASE_URL + f\"pokemon/{pokemon_name}\"\n",
    "    response = requests.get(url)\n",
    "\n",
    "    if response.status_code == 200:\n",
    "        data = response.json()\n",
    "        # Extract and print some useful information\n",
    "        print(f\"Name: {data['name']}\")\n",
    "        print(f\"Height: {data['height']}\")\n",
    "        print(f\"Weight: {data['weight']}\")\n",
    "        print(f\"Abilities: {[ability['ability']['name'] for ability in data['abilities']]}\")\n",
    "    else:\n",
    "        print(f\"Error: {response.status_code}\")\n",
    "\n",
    "def get_item_data(item_name):\n",
    "    # Endpoint to get information about a specific item (e.g., potion)\n",
    "    url = BASE_URL + f\"item/{item_name}\"\n",
    "    response = requests.get(url)\n",
    "\n",
    "    if response.status_code == 200:\n",
    "        data = response.json()\n",
    "        # Extract and print item details\n",
    "        print(f\"Item Name: {data['name']}\")\n",
    "        print(f\"Effect: {data['effect_entries'][0]['effect']}\")\n",
    "    else:\n",
    "        print(f\"Error: {response.status_code}\")\n",
    "\n",
    "if __name__ == \"__main__\":\n",
    "    # Fetching data about a Pokémon\n",
    "    get_pokemon_data(\"pikachu\")\n",
    "\n",
    "    # Fetching data about an item (potion)\n",
    "    get_item_data(\"potion\")\n"
   ]
  },
  {
   "cell_type": "code",
   "execution_count": 2,
   "metadata": {},
   "outputs": [
    {
     "name": "stdout",
     "output_type": "stream",
     "text": [
      "Available Pokémon Types: ['normal', 'fighting', 'flying', 'poison', 'ground', 'rock', 'bug', 'ghost', 'steel', 'fire', 'water', 'grass', 'electric', 'psychic', 'ice', 'dragon', 'dark', 'fairy', 'stellar', 'unknown']\n"
     ]
    }
   ],
   "source": [
    "def get_pokemon_types():\n",
    "    url = BASE_URL + \"type/\"\n",
    "    response = requests.get(url)\n",
    "\n",
    "    if response.status_code == 200:\n",
    "        data = response.json()\n",
    "        types = [t['name'] for t in data['results']]\n",
    "        print(f\"Available Pokémon Types: {types}\")\n",
    "    else:\n",
    "        print(f\"Error: {response.status_code}\")\n",
    "\n",
    "get_pokemon_types()\n"
   ]
  },
  {
   "cell_type": "code",
   "execution_count": 3,
   "metadata": {},
   "outputs": [
    {
     "name": "stdout",
     "output_type": "stream",
     "text": [
      "Pokémon of type 'electric': ['pikachu', 'raichu', 'magnemite', 'magneton', 'voltorb', 'electrode', 'electabuzz', 'jolteon', 'zapdos', 'chinchou']...\n"
     ]
    }
   ],
   "source": [
    "def get_pokemon_by_type(type_name):\n",
    "    url = BASE_URL + f\"type/{type_name}\"\n",
    "    response = requests.get(url)\n",
    "\n",
    "    if response.status_code == 200:\n",
    "        data = response.json()\n",
    "        pokemon_list = [pokemon['pokemon']['name'] for pokemon in data['pokemon']]\n",
    "        print(f\"Pokémon of type '{type_name}': {pokemon_list[:10]}...\")  # Print first 10\n",
    "    else:\n",
    "        print(f\"Error: {response.status_code}\")\n",
    "\n",
    "get_pokemon_by_type(\"electric\")\n"
   ]
  },
  {
   "cell_type": "code",
   "execution_count": 5,
   "metadata": {},
   "outputs": [
    {
     "name": "stdout",
     "output_type": "stream",
     "text": [
      "Pokémon List: ['bulbasaur', 'ivysaur', 'venusaur', 'charmander', 'charmeleon', 'charizard', 'squirtle', 'wartortle', 'blastoise', 'caterpie', 'metapod', 'butterfree', 'weedle', 'kakuna', 'beedrill', 'pidgey', 'pidgeotto', 'pidgeot', 'rattata', 'raticate']\n"
     ]
    }
   ],
   "source": [
    "def get_pokemon_list(limit=10, offset=0):\n",
    "    url = BASE_URL + f\"pokemon?limit={limit}&offset={offset}\"\n",
    "    response = requests.get(url)\n",
    "\n",
    "    if response.status_code == 200:\n",
    "        data = response.json()\n",
    "        pokemon_names = [pokemon['name'] for pokemon in data['results']]\n",
    "        print(f\"Pokémon List: {pokemon_names}\")\n",
    "    else:\n",
    "        print(f\"Error: {response.status_code}\")\n",
    "\n",
    "get_pokemon_list(20, 0)  # Get the first 20 Pokémon\n"
   ]
  },
  {
   "cell_type": "code",
   "execution_count": 7,
   "metadata": {},
   "outputs": [
    {
     "name": "stdout",
     "output_type": "stream",
     "text": [
      "\n",
      "Options: \n",
      "1. Get Pokémon Data\n",
      "2. Get Item Data\n",
      "3. Exit\n",
      "Name: bulbasaur\n",
      "Height: 7\n",
      "Weight: 69\n",
      "Abilities: ['overgrow', 'chlorophyll']\n",
      "\n",
      "Options: \n",
      "1. Get Pokémon Data\n",
      "2. Get Item Data\n",
      "3. Exit\n"
     ]
    }
   ],
   "source": [
    "# if __name__ == \"__main__\":\n",
    "#     while True:\n",
    "#         print(\"\\nOptions: \")\n",
    "#         print(\"1. Get Pokémon Data\")\n",
    "#         print(\"2. Get Item Data\")\n",
    "#         print(\"3. Exit\")\n",
    "\n",
    "#         choice = input(\"Enter choice: \")\n",
    "#         if choice == \"1\":\n",
    "#             pokemon = input(\"Enter Pokémon name: \")\n",
    "#             get_pokemon_data(pokemon)\n",
    "#         elif choice == \"2\":\n",
    "#             item = input(\"Enter item name: \")\n",
    "#             get_item_data(item)\n",
    "#         elif choice == \"3\":\n",
    "#             break\n",
    "#         else:\n",
    "#             print(\"Invalid choice. Try again.\")\n"
   ]
  },
  {
   "cell_type": "code",
   "execution_count": 1,
   "metadata": {},
   "outputs": [],
   "source": [
    "import pokebase as pb"
   ]
  },
  {
   "cell_type": "code",
   "execution_count": 10,
   "metadata": {},
   "outputs": [
    {
     "data": {
      "text/plain": [
       "<pokemon-charmander>"
      ]
     },
     "execution_count": 10,
     "metadata": {},
     "output_type": "execute_result"
    }
   ],
   "source": [
    "charmander = pb.pokemon('charmander')\n",
    "charmander"
   ]
  }
 ],
 "metadata": {
  "kernelspec": {
   "display_name": "pokemon",
   "language": "python",
   "name": "python3"
  },
  "language_info": {
   "codemirror_mode": {
    "name": "ipython",
    "version": 3
   },
   "file_extension": ".py",
   "mimetype": "text/x-python",
   "name": "python",
   "nbconvert_exporter": "python",
   "pygments_lexer": "ipython3",
   "version": "3.12.7"
  }
 },
 "nbformat": 4,
 "nbformat_minor": 2
}
