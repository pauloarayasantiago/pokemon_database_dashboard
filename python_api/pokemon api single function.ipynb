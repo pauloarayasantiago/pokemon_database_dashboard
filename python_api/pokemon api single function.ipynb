{
 "cells": [
  {
   "cell_type": "code",
   "execution_count": null,
   "metadata": {},
   "outputs": [],
   "source": [
    "import requests\n",
    "import pandas as pd\n",
    "\n",
    "# Base URL for PokeAPI\n",
    "BASE_URL = \"https://pokeapi.co/api/v2/\"\n",
    "\n",
    "def fetch_data(url):\n",
    "    response = requests.get(url)\n",
    "    if response.status_code == 200:\n",
    "        return response.json()\n",
    "    else:\n",
    "        return None\n",
    "\n",
    "# Function to get all Pokémon data and organize into relational DataFrames\n",
    "def get_pokemon_data():\n",
    "    url = BASE_URL + \"pokemon/\"\n",
    "    pokemon_data = []\n",
    "    abilities_data = []\n",
    "    moves_data = []\n",
    "    held_items_data = []\n",
    "    types_data = []\n",
    "    stats_data = []\n",
    "    forms_data = []\n",
    "    \n",
    "    while url:\n",
    "        data = fetch_data(url)\n",
    "        if data:\n",
    "            for pokemon in data['results']:\n",
    "                pokemon_info = fetch_data(pokemon['url'])\n",
    "                if pokemon_info:\n",
    "                    # Extracting main Pokémon data\n",
    "                    pokemon_entry = {\n",
    "                        'id': pokemon_info['id'],\n",
    "                        'name': pokemon_info['name'],\n",
    "                        'base_experience': pokemon_info['base_experience'],\n",
    "                        'height': pokemon_info['height'],\n",
    "                        'weight': pokemon_info['weight'],\n",
    "                        'is_default': pokemon_info['is_default'],\n",
    "                        'order': pokemon_info['order']\n",
    "                    }\n",
    "                    pokemon_data.append(pokemon_entry)\n",
    "\n",
    "                    # Extracting abilities data\n",
    "                    for ability in pokemon_info['abilities']:\n",
    "                        abilities_data.append({\n",
    "                            'pokemon_id': pokemon_info['id'],\n",
    "                            'ability_name': ability['ability']['name'],\n",
    "                            'is_hidden': ability['is_hidden'],\n",
    "                            'slot': ability['slot']\n",
    "                        })\n",
    "\n",
    "                    # Extracting moves data\n",
    "                    for move in pokemon_info['moves']:\n",
    "                        for version_detail in move['version_group_details']:\n",
    "                            moves_data.append({\n",
    "                                'pokemon_id': pokemon_info['id'],\n",
    "                                'move_name': move['move']['name'],\n",
    "                                'level_learned_at': version_detail['level_learned_at'],\n",
    "                                'version_group': version_detail['version_group']['name'],\n",
    "                                'move_learn_method': version_detail['move_learn_method']['name']\n",
    "                            })\n",
    "\n",
    "                    # Extracting held items data\n",
    "                    for item in pokemon_info['held_items']:\n",
    "                        for version_detail in item['version_details']:\n",
    "                            held_items_data.append({\n",
    "                                'pokemon_id': pokemon_info['id'],\n",
    "                                'item_name': item['item']['name'],\n",
    "                                'version_name': version_detail['version']['name'],\n",
    "                                'rarity': version_detail['rarity']\n",
    "                            })\n",
    "\n",
    "                    # Extracting types data\n",
    "                    for poke_type in pokemon_info['types']:\n",
    "                        types_data.append({\n",
    "                            'pokemon_id': pokemon_info['id'],\n",
    "                            'type_name': poke_type['type']['name'],\n",
    "                            'slot': poke_type['slot']\n",
    "                        })\n",
    "\n",
    "                    # Extracting stats data\n",
    "                    for stat in pokemon_info['stats']:\n",
    "                        stats_data.append({\n",
    "                            'pokemon_id': pokemon_info['id'],\n",
    "                            'stat_name': stat['stat']['name'],\n",
    "                            'base_stat': stat['base_stat'],\n",
    "                            'effort': stat['effort']\n",
    "                        })\n",
    "\n",
    "                    # Extracting forms data\n",
    "                    for form in pokemon_info['forms']:\n",
    "                        forms_data.append({\n",
    "                            'pokemon_id': pokemon_info['id'],\n",
    "                            'form_name': form['name']\n",
    "                        })\n",
    "            # Update the URL for the next page of results\n",
    "            url = data['next']\n",
    "        else:\n",
    "            break\n",
    "    \n",
    "    # Creating DataFrames for each relational table\n",
    "    pokemon_df = pd.DataFrame(pokemon_data)\n",
    "    abilities_df = pd.DataFrame(abilities_data)\n",
    "    moves_df = pd.DataFrame(moves_data)\n",
    "    held_items_df = pd.DataFrame(held_items_data)\n",
    "    types_df = pd.DataFrame(types_data)\n",
    "    stats_df = pd.DataFrame(stats_data)\n",
    "    forms_df = pd.DataFrame(forms_data)\n",
    "    \n",
    "    return pokemon_df, abilities_df, moves_df, held_items_df, types_df, stats_df, forms_df\n",
    "\n",
    "# Example usage\n",
    "pokemon_df, abilities_df, moves_df, held_items_df, types_df, stats_df, forms_df = get_pokemon_data()\n"
   ]
  },
  {
   "cell_type": "code",
   "execution_count": null,
   "metadata": {},
   "outputs": [],
   "source": [
    "pokemon_df"
   ]
  },
  {
   "cell_type": "code",
   "execution_count": null,
   "metadata": {},
   "outputs": [],
   "source": [
    "abilities_df"
   ]
  },
  {
   "cell_type": "code",
   "execution_count": null,
   "metadata": {},
   "outputs": [],
   "source": [
    "moves_df"
   ]
  },
  {
   "cell_type": "code",
   "execution_count": null,
   "metadata": {},
   "outputs": [],
   "source": [
    "held_items_df"
   ]
  },
  {
   "cell_type": "code",
   "execution_count": null,
   "metadata": {},
   "outputs": [],
   "source": [
    "types_df"
   ]
  },
  {
   "cell_type": "code",
   "execution_count": null,
   "metadata": {},
   "outputs": [],
   "source": [
    "stats_df"
   ]
  },
  {
   "cell_type": "code",
   "execution_count": null,
   "metadata": {},
   "outputs": [],
   "source": [
    "forms_df\n"
   ]
  },
  {
   "cell_type": "code",
   "execution_count": null,
   "metadata": {},
   "outputs": [],
   "source": [
    "# Save the DataFrames to CSV files\n",
    "pokemon_df.to_csv('pokemon_basic_data.csv', index=False)\n",
    "abilities_df.to_csv('abilities_data.csv', index=False)\n",
    "moves_df.to_csv('moves_data.csv', index=False)\n",
    "held_items_df.to_csv('held_items_data.csv', index=False)\n",
    "types_df.to_csv('types_data.csv', index=False)\n",
    "stats_df.to_csv('stats_data.csv', index=False)\n",
    "forms_df.to_csv('forms_data.csv', index=False)"
   ]
  },
  {
   "cell_type": "code",
   "execution_count": null,
   "metadata": {},
   "outputs": [],
   "source": [
    "held_items_df\n",
    "\n",
    "types_df\n",
    "\n",
    "stats_df\n",
    "\n",
    "forms_df\n",
    "# Save the DataFrames to CSV files\n",
    "pokemon_df.to_csv('pokemon_basic_data.csv', index=False)\n",
    "abilities_df.to_csv('abilities_data.csv', index=False)\n",
    "moves_df.to_csv('moves_data.csv', index=False)\n",
    "held_items_df.to_csv('held_items_data.csv', index=False)\n",
    "types_df.to_csv('types_data.csv', index=False)\n",
    "stats_df.to_csv('stats_data.csv', index=False)\n",
    "forms_df.to_csv('forms_data.csv', index=False)"
   ]
  },
  {
   "cell_type": "code",
   "execution_count": null,
   "metadata": {},
   "outputs": [],
   "source": [
    "moves_df\n",
    "\n",
    "held_items_df\n",
    "\n",
    "types_df\n",
    "\n",
    "stats_df\n",
    "\n",
    "forms_df\n",
    "# Save the DataFrames to CSV files\n",
    "pokemon_df.to_csv('pokemon_basic_data.csv', index=False)\n",
    "abilities_df.to_csv('abilities_data.csv', index=False)\n",
    "moves_df.to_csv('moves_data.csv', index=False)\n",
    "held_items_df.to_csv('held_items_data.csv', index=False)\n",
    "types_df.to_csv('types_data.csv', index=False)\n",
    "stats_df.to_csv('stats_data.csv', index=False)\n",
    "forms_df.to_csv('forms_data.csv', index=False)"
   ]
  }
 ],
 "metadata": {
  "kernelspec": {
   "display_name": "pokemon",
   "language": "python",
   "name": "python3"
  },
  "language_info": {
   "name": "python",
   "version": "3.12.7"
  }
 },
 "nbformat": 4,
 "nbformat_minor": 2
}
